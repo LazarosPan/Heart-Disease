{
 "cells": [
  {
   "cell_type": "markdown",
   "metadata": {},
   "source": [
    "# Selected Features"
   ]
  },
  {
   "cell_type": "code",
   "execution_count": 1,
   "metadata": {},
   "outputs": [
    {
     "name": "stderr",
     "output_type": "stream",
     "text": [
      "/home/lazaros/.local/lib/python3.10/site-packages/matplotlib/projections/__init__.py:63: UserWarning: Unable to import Axes3D. This may be due to multiple versions of Matplotlib being installed (e.g. as a system package and as a pip package). As a result, the 3D projection is not available.\n",
      "  warnings.warn(\"Unable to import Axes3D. This may be due to multiple versions of \"\n"
     ]
    }
   ],
   "source": [
    "import numpy as np # linear algebra\n",
    "import pandas as pd # data processing, CSV file I/O (e.g. pd.read_csv)\n",
    "\n",
    "### ML models ###\n",
    "from sklearn.ensemble import RandomForestClassifier\n",
    "from sklearn.neighbors import KNeighborsClassifier\n",
    "from sklearn.discriminant_analysis import QuadraticDiscriminantAnalysis\n",
    "from sklearn.neural_network import MLPClassifier\n",
    "from xgboost import XGBClassifier\n",
    "from lightgbm import LGBMClassifier\n",
    "\n",
    "### Custom Modules ###\n",
    "from functions.data_types import optimize_dtypes\n",
    "from functions.ml_training import train_evaluate_single\n",
    "\n",
    "### Other configurations ###\n",
    "pd.set_option('display.max_columns', None)\n",
    "pd.options.mode.chained_assignment = None  # default='warn'\n",
    "# #import warnings library\n",
    "# import warnings\n",
    "# # ignore all warnings\n",
    "# warnings.filterwarnings('ignore')\n",
    "\n",
    "from sklearn import set_config\n",
    "set_config(working_memory=1024*20) "
   ]
  },
  {
   "cell_type": "markdown",
   "metadata": {},
   "source": [
    "## SMOTE"
   ]
  },
  {
   "cell_type": "code",
   "execution_count": 2,
   "metadata": {},
   "outputs": [],
   "source": [
    "# to read .csv files from another directory\n",
    "data_location = \"../Data/\" # \"/<path>\"\n",
    "\n",
    "df_train = pd.read_csv(data_location + \"train_selected_smote.csv\")\n",
    "df_train = optimize_dtypes(df_train)\n",
    "# df_train.head()\n",
    "\n",
    "df_test = pd.read_csv(data_location + \"test_selected_from_smote.csv\")\n",
    "df_test = optimize_dtypes(df_test)\n",
    "\n",
    "\n",
    "# Separate target variable from feature variables\n",
    "X_train = df_train.drop('HadHeartAttack', axis=1, inplace=False)  # Features\n",
    "y_train = df_train['HadHeartAttack']\n",
    "\n",
    "# Separate target variable from feature variables\n",
    "X_test = df_test.drop('HadHeartAttack', axis=1, inplace=False)  # Features\n",
    "y_test = df_test['HadHeartAttack']"
   ]
  },
  {
   "cell_type": "code",
   "execution_count": 3,
   "metadata": {},
   "outputs": [
    {
     "data": {
      "text/html": [
       "<div>\n",
       "<style scoped>\n",
       "    .dataframe tbody tr th:only-of-type {\n",
       "        vertical-align: middle;\n",
       "    }\n",
       "\n",
       "    .dataframe tbody tr th {\n",
       "        vertical-align: top;\n",
       "    }\n",
       "\n",
       "    .dataframe thead th {\n",
       "        text-align: right;\n",
       "    }\n",
       "</style>\n",
       "<table border=\"1\" class=\"dataframe\">\n",
       "  <thead>\n",
       "    <tr style=\"text-align: right;\">\n",
       "      <th></th>\n",
       "      <th>classifier</th>\n",
       "      <th>accuracy</th>\n",
       "      <th>balanced_accuracy</th>\n",
       "      <th>precision</th>\n",
       "      <th>recall</th>\n",
       "      <th>f1_score</th>\n",
       "      <th>roc_auc</th>\n",
       "      <th>fit_time</th>\n",
       "    </tr>\n",
       "  </thead>\n",
       "  <tbody>\n",
       "    <tr>\n",
       "      <th>0</th>\n",
       "      <td>XGB</td>\n",
       "      <td>0.843124</td>\n",
       "      <td>0.737379</td>\n",
       "      <td>0.206164</td>\n",
       "      <td>0.61808</td>\n",
       "      <td>0.309194</td>\n",
       "      <td>0.834022</td>\n",
       "      <td>4.987499</td>\n",
       "    </tr>\n",
       "  </tbody>\n",
       "</table>\n",
       "</div>"
      ],
      "text/plain": [
       "  classifier  accuracy  balanced_accuracy  precision   recall  f1_score  \\\n",
       "0        XGB  0.843124           0.737379   0.206164  0.61808  0.309194   \n",
       "\n",
       "    roc_auc  fit_time  \n",
       "0  0.834022  4.987499  "
      ]
     },
     "execution_count": 3,
     "metadata": {},
     "output_type": "execute_result"
    }
   ],
   "source": [
    "xgb = XGBClassifier(booster='gbtree', validate_parameters=True, subsample=0.6 , random_state=13)\n",
    "metrics_xgb = train_evaluate_single(xgb, X_train, y_train, X_test, y_test, classifier_name=\"XGB\")\n",
    "\n",
    "# Store metrics in a DataFrame\n",
    "metrics_df_xgb = pd.DataFrame([metrics_xgb])\n",
    "metrics_df_xgb\n",
    "\n",
    "# https://xgboost.readthedocs.io/en/latest/parameter.html#learning-task-parameters"
   ]
  },
  {
   "cell_type": "code",
   "execution_count": 4,
   "metadata": {},
   "outputs": [
    {
     "name": "stdout",
     "output_type": "stream",
     "text": [
      "[LightGBM] [Info] Number of positive: 333567, number of negative: 333567\n",
      "[LightGBM] [Info] Auto-choosing row-wise multi-threading, the overhead of testing was 0.029914 seconds.\n",
      "You can set `force_row_wise=true` to remove the overhead.\n",
      "And if memory is not enough, you can set `force_col_wise=true`.\n",
      "[LightGBM] [Info] Total Bins 289\n",
      "[LightGBM] [Info] Number of data points in the train set: 667134, number of used features: 18\n",
      "[LightGBM] [Info] [binary:BoostFromScore]: pavg=0.500000 -> initscore=0.000000\n"
     ]
    },
    {
     "data": {
      "text/html": [
       "<div>\n",
       "<style scoped>\n",
       "    .dataframe tbody tr th:only-of-type {\n",
       "        vertical-align: middle;\n",
       "    }\n",
       "\n",
       "    .dataframe tbody tr th {\n",
       "        vertical-align: top;\n",
       "    }\n",
       "\n",
       "    .dataframe thead th {\n",
       "        text-align: right;\n",
       "    }\n",
       "</style>\n",
       "<table border=\"1\" class=\"dataframe\">\n",
       "  <thead>\n",
       "    <tr style=\"text-align: right;\">\n",
       "      <th></th>\n",
       "      <th>classifier</th>\n",
       "      <th>accuracy</th>\n",
       "      <th>balanced_accuracy</th>\n",
       "      <th>precision</th>\n",
       "      <th>recall</th>\n",
       "      <th>f1_score</th>\n",
       "      <th>roc_auc</th>\n",
       "      <th>fit_time</th>\n",
       "    </tr>\n",
       "  </thead>\n",
       "  <tbody>\n",
       "    <tr>\n",
       "      <th>0</th>\n",
       "      <td>LGBM</td>\n",
       "      <td>0.840953</td>\n",
       "      <td>0.747643</td>\n",
       "      <td>0.208237</td>\n",
       "      <td>0.642374</td>\n",
       "      <td>0.314517</td>\n",
       "      <td>0.841097</td>\n",
       "      <td>3.660879</td>\n",
       "    </tr>\n",
       "  </tbody>\n",
       "</table>\n",
       "</div>"
      ],
      "text/plain": [
       "  classifier  accuracy  balanced_accuracy  precision    recall  f1_score  \\\n",
       "0       LGBM  0.840953           0.747643   0.208237  0.642374  0.314517   \n",
       "\n",
       "    roc_auc  fit_time  \n",
       "0  0.841097  3.660879  "
      ]
     },
     "execution_count": 4,
     "metadata": {},
     "output_type": "execute_result"
    }
   ],
   "source": [
    "lgbm = LGBMClassifier( boosting_type='gbdt', objective='binary', subsample=0.6, random_state=13)\n",
    "metrics_lgbm = train_evaluate_single(lgbm, X_train, y_train, X_test, y_test, classifier_name=\"LGBM\")\n",
    "\n",
    "# Store metrics in a DataFrame\n",
    "metrics_df_lgbm = pd.DataFrame([metrics_lgbm])\n",
    "metrics_df_lgbm\n",
    "\n",
    "# https://xgboost.readthedocs.io/en/latest/parameter.html#learning-task-parameters"
   ]
  },
  {
   "cell_type": "code",
   "execution_count": 5,
   "metadata": {},
   "outputs": [
    {
     "data": {
      "text/html": [
       "<div>\n",
       "<style scoped>\n",
       "    .dataframe tbody tr th:only-of-type {\n",
       "        vertical-align: middle;\n",
       "    }\n",
       "\n",
       "    .dataframe tbody tr th {\n",
       "        vertical-align: top;\n",
       "    }\n",
       "\n",
       "    .dataframe thead th {\n",
       "        text-align: right;\n",
       "    }\n",
       "</style>\n",
       "<table border=\"1\" class=\"dataframe\">\n",
       "  <thead>\n",
       "    <tr style=\"text-align: right;\">\n",
       "      <th></th>\n",
       "      <th>classifier</th>\n",
       "      <th>accuracy</th>\n",
       "      <th>balanced_accuracy</th>\n",
       "      <th>precision</th>\n",
       "      <th>recall</th>\n",
       "      <th>f1_score</th>\n",
       "      <th>roc_auc</th>\n",
       "      <th>fit_time</th>\n",
       "    </tr>\n",
       "  </thead>\n",
       "  <tbody>\n",
       "    <tr>\n",
       "      <th>0</th>\n",
       "      <td>RF</td>\n",
       "      <td>0.838182</td>\n",
       "      <td>0.712396</td>\n",
       "      <td>0.190809</td>\n",
       "      <td>0.57049</td>\n",
       "      <td>0.285971</td>\n",
       "      <td>0.796992</td>\n",
       "      <td>28.699455</td>\n",
       "    </tr>\n",
       "  </tbody>\n",
       "</table>\n",
       "</div>"
      ],
      "text/plain": [
       "  classifier  accuracy  balanced_accuracy  precision   recall  f1_score  \\\n",
       "0         RF  0.838182           0.712396   0.190809  0.57049  0.285971   \n",
       "\n",
       "    roc_auc   fit_time  \n",
       "0  0.796992  28.699455  "
      ]
     },
     "execution_count": 5,
     "metadata": {},
     "output_type": "execute_result"
    }
   ],
   "source": [
    "rf = RandomForestClassifier(criterion='entropy', n_jobs=-1, class_weight='balanced', random_state=13)\n",
    "metrics_rf = train_evaluate_single(rf, X_train, y_train, X_test, y_test, classifier_name=\"RF\")\n",
    "\n",
    "# Store metrics in a DataFrame\n",
    "metrics_df_rf = pd.DataFrame([metrics_rf])\n",
    "metrics_df_rf"
   ]
  },
  {
   "cell_type": "code",
   "execution_count": 6,
   "metadata": {},
   "outputs": [
    {
     "ename": "",
     "evalue": "",
     "output_type": "error",
     "traceback": [
      "\u001b[1;31mThe Kernel crashed while executing code in the current cell or a previous cell. \n",
      "\u001b[1;31mPlease review the code in the cell(s) to identify a possible cause of the failure. \n",
      "\u001b[1;31mClick <a href='https://aka.ms/vscodeJupyterKernelCrash'>here</a> for more info. \n",
      "\u001b[1;31mView Jupyter <a href='command:jupyter.viewOutput'>log</a> for further details."
     ]
    }
   ],
   "source": [
    "knn = KNeighborsClassifier(n_neighbors=5, weights='uniform', algorithm='auto', leaf_size=30, p=2, metric='minkowski', metric_params=None, n_jobs=-1)\n",
    "metrics_knn = train_evaluate_single(knn, X_train, y_train, X_test, y_test, classifier_name=\"kNN\")\n",
    "\n",
    "# Store metrics in a DataFrame\n",
    "metrics_df_knn = pd.DataFrame([metrics_knn])\n",
    "metrics_df_knn\n",
    "\n",
    "# https://scikit-learn.org/stable/modules/generated/sklearn.neighbors.KNeighborsClassifier.html"
   ]
  },
  {
   "cell_type": "code",
   "execution_count": null,
   "metadata": {},
   "outputs": [],
   "source": [
    "qda = QuadraticDiscriminantAnalysis(priors=None, reg_param=0.7, store_covariance=False, tol=0.0001)\n",
    "metrics_qda = train_evaluate_single(qda, X_train, y_train, X_test, y_test, classifier_name=\"QDA\")\n",
    "\n",
    "# Store metrics in a DataFrame\n",
    "metrics_df_qda = pd.DataFrame([metrics_qda])\n",
    "metrics_df_qda\n",
    "\n",
    "# https://scikit-learn.org/stable/modules/generated/sklearn.discriminant_analysis.QuadraticDiscriminantAnalysis.html#sklearn.discriminant_analysis.QuadraticDiscriminantAnalysis"
   ]
  },
  {
   "cell_type": "code",
   "execution_count": null,
   "metadata": {},
   "outputs": [],
   "source": [
    "mlp = MLPClassifier(hidden_layer_sizes=(100,), activation='relu', solver='adam', alpha=0.0001, batch_size='auto', learning_rate_init=0.001, max_iter=1000, shuffle=True, random_state=13, tol=0.0001, verbose=False, warm_start=False, early_stopping=True, validation_fraction=0.1, beta_1=0.9, beta_2=0.999, epsilon=1e-08, n_iter_no_change=20)\n",
    "metrics_mlp = train_evaluate_single(mlp, X_train, y_train, X_test, y_test, classifier_name=\"MLP\")\n",
    "\n",
    "# Store metrics in a DataFrame\n",
    "metrics_df_mlp = pd.DataFrame([metrics_mlp])\n",
    "metrics_df_mlp\n",
    "\n",
    "# https://scikit-learn.org/stable/modules/generated/sklearn.discriminant_analysis.QuadraticDiscriminantAnalysis.html#sklearn.discriminant_analysis.QuadraticDiscriminantAnalysis"
   ]
  },
  {
   "cell_type": "code",
   "execution_count": null,
   "metadata": {},
   "outputs": [],
   "source": [
    "selected_smote_results = pd.concat([metrics_df_xgb, metrics_df_lgbm, metrics_df_rf, metrics_df_knn, metrics_df_qda, metrics_df_mlp])\n",
    "selected_smote_results = selected_smote_results.round(3)\n",
    "selected_smote_results.to_csv('../Data/results_selected_smote.csv', index=False)\n",
    "selected_smote_results"
   ]
  },
  {
   "cell_type": "markdown",
   "metadata": {},
   "source": [
    "## Borderline SMOTE"
   ]
  },
  {
   "cell_type": "code",
   "execution_count": null,
   "metadata": {},
   "outputs": [],
   "source": [
    "df_train = pd.read_csv(data_location + \"train_selected_borderline_smote.csv\")\n",
    "df_train = optimize_dtypes(df_train)\n",
    "# df_train.head()\n",
    "\n",
    "df_test = pd.read_csv(data_location + \"test_selected_from_borderline_smote.csv\")\n",
    "df_test = optimize_dtypes(df_test)\n",
    "\n",
    "\n",
    "# Separate target variable from feature variables\n",
    "X_train = df_train.drop('HadHeartAttack', axis=1, inplace=False)  # Features\n",
    "y_train = df_train['HadHeartAttack']\n",
    "\n",
    "# Separate target variable from feature variables\n",
    "X_test = df_test.drop('HadHeartAttack', axis=1, inplace=False)  # Features\n",
    "y_test = df_test['HadHeartAttack']   "
   ]
  },
  {
   "cell_type": "code",
   "execution_count": null,
   "metadata": {},
   "outputs": [],
   "source": [
    "xgb = XGBClassifier(booster='gbtree', validate_parameters=True, subsample=0.6 , random_state=13)\n",
    "metrics_xgb = train_evaluate_single(xgb, X_train, y_train, X_test, y_test, classifier_name=\"XGB\")\n",
    "\n",
    "# Store metrics in a DataFrame\n",
    "metrics_df_xgb = pd.DataFrame([metrics_xgb])\n",
    "metrics_df_xgb\n",
    "\n",
    "# https://xgboost.readthedocs.io/en/latest/parameter.html#learning-task-parameters"
   ]
  },
  {
   "cell_type": "code",
   "execution_count": null,
   "metadata": {},
   "outputs": [],
   "source": [
    "lgbm = LGBMClassifier( boosting_type='gbdt', objective='binary', subsample=0.6, random_state=13)\n",
    "metrics_lgbm = train_evaluate_single(lgbm, X_train, y_train, X_test, y_test, classifier_name=\"LGBM\")\n",
    "\n",
    "# Store metrics in a DataFrame\n",
    "metrics_df_lgbm = pd.DataFrame([metrics_lgbm])\n",
    "metrics_df_lgbm\n",
    "\n",
    "# https://xgboost.readthedocs.io/en/latest/parameter.html#learning-task-parameters"
   ]
  },
  {
   "cell_type": "code",
   "execution_count": null,
   "metadata": {},
   "outputs": [],
   "source": [
    "rf = RandomForestClassifier(criterion='entropy', n_jobs=-1, class_weight='balanced', random_state=13)\n",
    "metrics_rf = train_evaluate_single(rf, X_train, y_train, X_test, y_test, classifier_name=\"RF\")\n",
    "\n",
    "# Store metrics in a DataFrame\n",
    "metrics_df_rf = pd.DataFrame([metrics_rf])\n",
    "metrics_df_rf"
   ]
  },
  {
   "cell_type": "code",
   "execution_count": null,
   "metadata": {},
   "outputs": [],
   "source": [
    "knn = KNeighborsClassifier(n_neighbors=5, weights='uniform', algorithm='auto', leaf_size=30, p=2, metric='minkowski', metric_params=None, n_jobs=-1)\n",
    "metrics_knn = train_evaluate_single(knn, X_train, y_train, X_test, y_test, classifier_name=\"kNN\")\n",
    "\n",
    "# Store metrics in a DataFrame\n",
    "metrics_df_knn = pd.DataFrame([metrics_knn])\n",
    "metrics_df_knn\n",
    "\n",
    "# https://scikit-learn.org/stable/modules/generated/sklearn.neighbors.KNeighborsClassifier.html"
   ]
  },
  {
   "cell_type": "code",
   "execution_count": null,
   "metadata": {},
   "outputs": [],
   "source": [
    "qda = QuadraticDiscriminantAnalysis(priors=None, reg_param=0.7, store_covariance=False, tol=0.0001)\n",
    "metrics_qda = train_evaluate_single(qda, X_train, y_train, X_test, y_test, classifier_name=\"QDA\")\n",
    "\n",
    "# Store metrics in a DataFrame\n",
    "metrics_df_qda = pd.DataFrame([metrics_qda])\n",
    "metrics_df_qda\n",
    "\n",
    "# https://scikit-learn.org/stable/modules/generated/sklearn.discriminant_analysis.QuadraticDiscriminantAnalysis.html#sklearn.discriminant_analysis.QuadraticDiscriminantAnalysis"
   ]
  },
  {
   "cell_type": "code",
   "execution_count": null,
   "metadata": {},
   "outputs": [],
   "source": [
    "mlp = MLPClassifier(hidden_layer_sizes=(100,), activation='relu', solver='adam', alpha=0.0001, batch_size='auto', learning_rate_init=0.001, max_iter=1000, shuffle=True, random_state=13, tol=0.0001, verbose=False, warm_start=False, early_stopping=True, validation_fraction=0.1, beta_1=0.9, beta_2=0.999, epsilon=1e-08, n_iter_no_change=20)\n",
    "metrics_mlp = train_evaluate_single(mlp, X_train, y_train, X_test, y_test, classifier_name=\"MLP\")\n",
    "\n",
    "# Store metrics in a DataFrame\n",
    "metrics_df_mlp = pd.DataFrame([metrics_mlp])\n",
    "metrics_df_mlp\n",
    "\n",
    "# https://scikit-learn.org/stable/modules/generated/sklearn.discriminant_analysis.QuadraticDiscriminantAnalysis.html#sklearn.discriminant_analysis.QuadraticDiscriminantAnalysis"
   ]
  },
  {
   "cell_type": "code",
   "execution_count": null,
   "metadata": {},
   "outputs": [],
   "source": [
    "selected_borderline_smote_results = pd.concat([metrics_df_xgb, metrics_df_lgbm, metrics_df_rf, metrics_df_knn, metrics_df_qda, metrics_df_mlp])\n",
    "selected_borderline_smote_results = selected_borderline_smote_results.round(3)\n",
    "selected_borderline_smote_results.to_csv('../Data/results_selected_borderline_smote.csv', index=False)\n",
    "selected_borderline_smote_results"
   ]
  },
  {
   "cell_type": "markdown",
   "metadata": {},
   "source": [
    "## KMeans SMOTE"
   ]
  },
  {
   "cell_type": "code",
   "execution_count": null,
   "metadata": {},
   "outputs": [],
   "source": [
    "df_train = pd.read_csv(data_location + \"train_selected_kmeans_smote.csv\")\n",
    "df_train = optimize_dtypes(df_train)\n",
    "# df_train.head()\n",
    "\n",
    "df_test = pd.read_csv(data_location + \"test_selected_from_kmeans_smote.csv\")\n",
    "df_test = optimize_dtypes(df_test)\n",
    "\n",
    "\n",
    "# Separate target variable from feature variables\n",
    "X_train = df_train.drop('HadHeartAttack', axis=1, inplace=False)  # Features\n",
    "y_train = df_train['HadHeartAttack']\n",
    "\n",
    "# Separate target variable from feature variables\n",
    "X_test = df_test.drop('HadHeartAttack', axis=1, inplace=False)  # Features\n",
    "y_test = df_test['HadHeartAttack']   "
   ]
  },
  {
   "cell_type": "code",
   "execution_count": null,
   "metadata": {},
   "outputs": [],
   "source": [
    "xgb = XGBClassifier(booster='gbtree', validate_parameters=True, subsample=0.6 , random_state=13)\n",
    "metrics_xgb = train_evaluate_single(xgb, X_train, y_train, X_test, y_test, classifier_name=\"XGB\")\n",
    "\n",
    "# Store metrics in a DataFrame\n",
    "metrics_df_xgb = pd.DataFrame([metrics_xgb])\n",
    "metrics_df_xgb\n",
    "\n",
    "# https://xgboost.readthedocs.io/en/latest/parameter.html#learning-task-parameters"
   ]
  },
  {
   "cell_type": "code",
   "execution_count": null,
   "metadata": {},
   "outputs": [],
   "source": [
    "lgbm = LGBMClassifier( boosting_type='gbdt', objective='binary', subsample=0.6, random_state=13)\n",
    "metrics_lgbm = train_evaluate_single(lgbm, X_train, y_train, X_test, y_test, classifier_name=\"LGBM\")\n",
    "\n",
    "# Store metrics in a DataFrame\n",
    "metrics_df_lgbm = pd.DataFrame([metrics_lgbm])\n",
    "metrics_df_lgbm\n",
    "\n",
    "# https://xgboost.readthedocs.io/en/latest/parameter.html#learning-task-parameters"
   ]
  },
  {
   "cell_type": "code",
   "execution_count": null,
   "metadata": {},
   "outputs": [],
   "source": [
    "rf = RandomForestClassifier(criterion='entropy', n_jobs=-1, class_weight='balanced', random_state=13)\n",
    "metrics_rf = train_evaluate_single(rf, X_train, y_train, X_test, y_test, classifier_name=\"RF\")\n",
    "\n",
    "# Store metrics in a DataFrame\n",
    "metrics_df_rf = pd.DataFrame([metrics_rf])\n",
    "metrics_df_rf"
   ]
  },
  {
   "cell_type": "code",
   "execution_count": null,
   "metadata": {},
   "outputs": [],
   "source": [
    "knn = KNeighborsClassifier(n_neighbors=5, weights='uniform', algorithm='auto', leaf_size=30, p=2, metric='minkowski', metric_params=None, n_jobs=-1)\n",
    "metrics_knn = train_evaluate_single(knn, X_train, y_train, X_test, y_test, classifier_name=\"kNN\")\n",
    "\n",
    "# Store metrics in a DataFrame\n",
    "metrics_df_knn = pd.DataFrame([metrics_knn])\n",
    "metrics_df_knn\n",
    "\n",
    "# https://scikit-learn.org/stable/modules/generated/sklearn.neighbors.KNeighborsClassifier.html"
   ]
  },
  {
   "cell_type": "code",
   "execution_count": null,
   "metadata": {},
   "outputs": [],
   "source": [
    "qda = QuadraticDiscriminantAnalysis(priors=None, reg_param=0.7, store_covariance=False, tol=0.0001)\n",
    "metrics_qda = train_evaluate_single(qda, X_train, y_train, X_test, y_test, classifier_name=\"QDA\")\n",
    "\n",
    "# Store metrics in a DataFrame\n",
    "metrics_df_qda = pd.DataFrame([metrics_qda])\n",
    "metrics_df_qda\n",
    "\n",
    "# https://scikit-learn.org/stable/modules/generated/sklearn.discriminant_analysis.QuadraticDiscriminantAnalysis.html#sklearn.discriminant_analysis.QuadraticDiscriminantAnalysis"
   ]
  },
  {
   "cell_type": "code",
   "execution_count": null,
   "metadata": {},
   "outputs": [],
   "source": [
    "mlp = MLPClassifier(hidden_layer_sizes=(100,), activation='relu', solver='adam', alpha=0.0001, batch_size='auto', learning_rate_init=0.001, max_iter=1000, shuffle=True, random_state=13, tol=0.0001, verbose=False, warm_start=False, early_stopping=True, validation_fraction=0.1, beta_1=0.9, beta_2=0.999, epsilon=1e-08, n_iter_no_change=20)\n",
    "metrics_mlp = train_evaluate_single(mlp, X_train, y_train, X_test, y_test, classifier_name=\"MLP\")\n",
    "\n",
    "# Store metrics in a DataFrame\n",
    "metrics_df_mlp = pd.DataFrame([metrics_mlp])\n",
    "metrics_df_mlp\n",
    "\n",
    "# https://scikit-learn.org/stable/modules/generated/sklearn.discriminant_analysis.QuadraticDiscriminantAnalysis.html#sklearn.discriminant_analysis.QuadraticDiscriminantAnalysis"
   ]
  },
  {
   "cell_type": "code",
   "execution_count": null,
   "metadata": {},
   "outputs": [],
   "source": [
    "selected_kmeans_smote_results = pd.concat([metrics_df_xgb, metrics_df_lgbm, metrics_df_rf, metrics_df_knn, metrics_df_qda, metrics_df_mlp])\n",
    "selected_kmeans_smote_results = selected_kmeans_smote_results.round(3)\n",
    "selected_kmeans_smote_results.to_csv('../Data/results_selected_kmeans_smote.csv', index=False)\n",
    "selected_kmeans_smote_results"
   ]
  },
  {
   "cell_type": "markdown",
   "metadata": {},
   "source": [
    "## Adasyn"
   ]
  },
  {
   "cell_type": "code",
   "execution_count": null,
   "metadata": {},
   "outputs": [],
   "source": [
    "df_train = pd.read_csv(data_location + \"train_selected_adasyn.csv\")\n",
    "df_train = optimize_dtypes(df_train)\n",
    "# df_train.head()\n",
    "\n",
    "df_test = pd.read_csv(data_location + \"test_selected_from_adasyn.csv\")\n",
    "df_test = optimize_dtypes(df_test)\n",
    "\n",
    "\n",
    "# Separate target variable from feature variables\n",
    "X_train = df_train.drop('HadHeartAttack', axis=1, inplace=False)  # Features\n",
    "y_train = df_train['HadHeartAttack']\n",
    "\n",
    "# Separate target variable from feature variables\n",
    "X_test = df_test.drop('HadHeartAttack', axis=1, inplace=False)  # Features\n",
    "y_test = df_test['HadHeartAttack']   "
   ]
  },
  {
   "cell_type": "code",
   "execution_count": null,
   "metadata": {},
   "outputs": [],
   "source": [
    "xgb = XGBClassifier(booster='gbtree', validate_parameters=True, subsample=0.6 , random_state=13)\n",
    "metrics_xgb = train_evaluate_single(xgb, X_train, y_train, X_test, y_test, classifier_name=\"XGB\")\n",
    "\n",
    "# Store metrics in a DataFrame\n",
    "metrics_df_xgb = pd.DataFrame([metrics_xgb])\n",
    "metrics_df_xgb\n",
    "\n",
    "# https://xgboost.readthedocs.io/en/latest/parameter.html#learning-task-parameters"
   ]
  },
  {
   "cell_type": "code",
   "execution_count": null,
   "metadata": {},
   "outputs": [],
   "source": [
    "lgbm = LGBMClassifier( boosting_type='gbdt', objective='binary', subsample=0.6, random_state=13)\n",
    "metrics_lgbm = train_evaluate_single(lgbm, X_train, y_train, X_test, y_test, classifier_name=\"LGBM\")\n",
    "\n",
    "# Store metrics in a DataFrame\n",
    "metrics_df_lgbm = pd.DataFrame([metrics_lgbm])\n",
    "metrics_df_lgbm\n",
    "\n",
    "# https://xgboost.readthedocs.io/en/latest/parameter.html#learning-task-parameters"
   ]
  },
  {
   "cell_type": "code",
   "execution_count": null,
   "metadata": {},
   "outputs": [],
   "source": [
    "rf = RandomForestClassifier(criterion='entropy', n_jobs=-1, class_weight='balanced', random_state=13)\n",
    "metrics_rf = train_evaluate_single(rf, X_train, y_train, X_test, y_test, classifier_name=\"RF\")\n",
    "\n",
    "# Store metrics in a DataFrame\n",
    "metrics_df_rf = pd.DataFrame([metrics_rf])\n",
    "metrics_df_rf"
   ]
  },
  {
   "cell_type": "code",
   "execution_count": null,
   "metadata": {},
   "outputs": [],
   "source": [
    "qda = QuadraticDiscriminantAnalysis(priors=None, reg_param=0.7, store_covariance=False, tol=0.0001)\n",
    "metrics_qda = train_evaluate_single(qda, X_train, y_train, X_test, y_test, classifier_name=\"QDA\")\n",
    "\n",
    "# Store metrics in a DataFrame\n",
    "metrics_df_qda = pd.DataFrame([metrics_qda])\n",
    "metrics_df_qda\n",
    "\n",
    "# https://scikit-learn.org/stable/modules/generated/sklearn.discriminant_analysis.QuadraticDiscriminantAnalysis.html#sklearn.discriminant_analysis.QuadraticDiscriminantAnalysis"
   ]
  },
  {
   "cell_type": "code",
   "execution_count": null,
   "metadata": {},
   "outputs": [],
   "source": [
    "mlp = MLPClassifier(hidden_layer_sizes=(100,), activation='relu', solver='adam', alpha=0.0001, batch_size='auto', learning_rate_init=0.001, max_iter=1000, shuffle=True, random_state=13, tol=0.0001, verbose=False, warm_start=False, early_stopping=True, validation_fraction=0.1, beta_1=0.9, beta_2=0.999, epsilon=1e-08, n_iter_no_change=20)\n",
    "metrics_mlp = train_evaluate_single(mlp, X_train, y_train, X_test, y_test, classifier_name=\"MLP\")\n",
    "\n",
    "# Store metrics in a DataFrame\n",
    "metrics_df_mlp = pd.DataFrame([metrics_mlp])\n",
    "metrics_df_mlp\n",
    "\n",
    "# https://scikit-learn.org/stable/modules/generated/sklearn.discriminant_analysis.QuadraticDiscriminantAnalysis.html#sklearn.discriminant_analysis.QuadraticDiscriminantAnalysis"
   ]
  },
  {
   "cell_type": "code",
   "execution_count": null,
   "metadata": {},
   "outputs": [],
   "source": [
    "selected_adasyn_results = pd.concat([metrics_df_xgb, metrics_df_lgbm, metrics_df_rf, metrics_df_knn, metrics_df_qda, metrics_df_mlp])\n",
    "selected_adasyn_results = selected_adasyn_results.round(3)\n",
    "selected_adasyn_results.to_csv('../Data/results_selected_adasyn.csv', index=False)\n",
    "selected_adasyn_results"
   ]
  }
 ],
 "metadata": {
  "kernelspec": {
   "display_name": "Python 3",
   "language": "python",
   "name": "python3"
  },
  "language_info": {
   "codemirror_mode": {
    "name": "ipython",
    "version": 3
   },
   "file_extension": ".py",
   "mimetype": "text/x-python",
   "name": "python",
   "nbconvert_exporter": "python",
   "pygments_lexer": "ipython3",
   "version": "3.10.12"
  }
 },
 "nbformat": 4,
 "nbformat_minor": 2
}
